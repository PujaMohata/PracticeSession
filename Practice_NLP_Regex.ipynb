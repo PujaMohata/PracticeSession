{
 "cells": [
  {
   "cell_type": "code",
   "execution_count": 1,
   "id": "4ae126b4",
   "metadata": {},
   "outputs": [],
   "source": [
    "import re"
   ]
  },
  {
   "cell_type": "code",
   "execution_count": 2,
   "id": "89e24584",
   "metadata": {},
   "outputs": [],
   "source": [
    "chat1 = 'codebasics: you ask lot of questions 1235678912, abc@xyz.com'\n",
    "chat2 = 'codebasics: here it is: (123)-567-8912, abc@xyz.com'\n",
    "chat3 = 'codebasics: yes, phone: 1235678912 email: abc@xyz.com'"
   ]
  },
  {
   "cell_type": "code",
   "execution_count": 10,
   "id": "cd071546",
   "metadata": {},
   "outputs": [
    {
     "data": {
      "text/plain": [
       "'abc@xyz.com'"
      ]
     },
     "execution_count": 10,
     "metadata": {},
     "output_type": "execute_result"
    }
   ],
   "source": [
    "#pattern = '\\(\\d{3}\\)-\\d{3}-\\d{4}|\\d{10}'\n",
    "pattern = '[A-Za-z0-9_]*@[A-Za-z0-9_]*\\.com'\n",
    "\n",
    "match = re.findall(pattern,chat2)\n",
    "match\n",
    "email = match[0]\n",
    "email"
   ]
  },
  {
   "cell_type": "code",
   "execution_count": 11,
   "id": "0bac71f1",
   "metadata": {},
   "outputs": [],
   "source": [
    "chat4 = 'codebasics: Hello, I am having an issue with my order # 412889912'\n",
    "chat5 = 'codebasics: I have a problem with my order number 412889912'\n",
    "chat6 = 'codebasics: My order 412889912 is having an issue, I was charged 300$ when online it says 280$'"
   ]
  },
  {
   "cell_type": "code",
   "execution_count": 13,
   "id": "2c006bc6",
   "metadata": {},
   "outputs": [
    {
     "data": {
      "text/plain": [
       "['412889912']"
      ]
     },
     "execution_count": 13,
     "metadata": {},
     "output_type": "execute_result"
    }
   ],
   "source": [
    "patterns = 'order[^0-9]*(\\d*)'\n",
    "\n",
    "matches = re.findall(patterns,chat5)\n",
    "matches"
   ]
  },
  {
   "cell_type": "code",
   "execution_count": 28,
   "id": "af4fa44b",
   "metadata": {},
   "outputs": [],
   "source": [
    "text='''\n",
    "Born\tMukesh Dhirubhai Ambani\n",
    "19 April 1957 (age 64)\n",
    "Aden, Colony of Aden\n",
    "(present-day Yemen)[1][2]\n",
    "Nationality\tIndian\n",
    "Alma mater\t\n",
    "St. Xavier's College, Mumbai\n",
    "Institute of Chemical Technology (B.E.)\n",
    "Stanford University (drop-out)\n",
    "Occupation\tChairman and MD, Reliance Industries\n",
    "Spouse(s)\tNita Ambani ​(m. 1985)​[3]\n",
    "Children\t3\n",
    "Parent(s)\t\n",
    "Dhirubhai Ambani (father)\n",
    "Kokilaben Ambani (mother)\n",
    "Relatives\tAnil Ambani (brother)\n",
    "Tina Ambani (sister-in-law)\n",
    "'''\n"
   ]
  },
  {
   "cell_type": "code",
   "execution_count": 15,
   "id": "5f5a42ce",
   "metadata": {},
   "outputs": [
    {
     "data": {
      "text/plain": [
       "['50']"
      ]
     },
     "execution_count": 15,
     "metadata": {},
     "output_type": "execute_result"
    }
   ],
   "source": [
    "#age\n",
    "pattern = 'age (\\d+)'\n",
    "\n",
    "match = re.findall(pattern,text)\n",
    "match"
   ]
  },
  {
   "cell_type": "code",
   "execution_count": 17,
   "id": "5631b2c7",
   "metadata": {},
   "outputs": [
    {
     "data": {
      "text/plain": [
       "'Elon Reeve Musk'"
      ]
     },
     "execution_count": 17,
     "metadata": {},
     "output_type": "execute_result"
    }
   ],
   "source": [
    "#born on\n",
    "pattern = 'Born(.*)'\n",
    "\n",
    "match = re.findall(pattern,text)\n",
    "match[0].strip()"
   ]
  },
  {
   "cell_type": "code",
   "execution_count": 20,
   "id": "37671be8",
   "metadata": {},
   "outputs": [
    {
     "data": {
      "text/plain": [
       "'June 28, 1971'"
      ]
     },
     "execution_count": 20,
     "metadata": {},
     "output_type": "execute_result"
    }
   ],
   "source": [
    "#DOB\n",
    "pattern = 'Born.*\\n(.*)\\(age'\n",
    "\n",
    "match= re.findall(pattern,text)\n",
    "match[0].strip()"
   ]
  },
  {
   "cell_type": "code",
   "execution_count": 21,
   "id": "e88f1429",
   "metadata": {},
   "outputs": [
    {
     "data": {
      "text/plain": [
       "'Pretoria, Transvaal, South Africa'"
      ]
     },
     "execution_count": 21,
     "metadata": {},
     "output_type": "execute_result"
    }
   ],
   "source": [
    "#Birth place\n",
    "pattern = '\\(age.*\\n(.*)'\n",
    "\n",
    "match= re.findall(pattern,text)\n",
    "match[0].strip()"
   ]
  },
  {
   "cell_type": "code",
   "execution_count": 22,
   "id": "f44d1725",
   "metadata": {},
   "outputs": [],
   "source": [
    "def get_pattern_match(pattern,text):\n",
    "    matches = re.findall(pattern,text)\n",
    "    if matches:\n",
    "        return matches[0]"
   ]
  },
  {
   "cell_type": "code",
   "execution_count": 23,
   "id": "74121c2b",
   "metadata": {},
   "outputs": [
    {
     "data": {
      "text/plain": [
       "'Pretoria, Transvaal, South Africa'"
      ]
     },
     "execution_count": 23,
     "metadata": {},
     "output_type": "execute_result"
    }
   ],
   "source": [
    "get_pattern_match('\\(age.*\\n(.*)',text)"
   ]
  },
  {
   "cell_type": "code",
   "execution_count": 26,
   "id": "16b8bdef",
   "metadata": {},
   "outputs": [],
   "source": [
    "def get_personal_info(text):\n",
    "    age = get_pattern_match('age (\\d+)',text)\n",
    "    full_name = get_pattern_match('Born(.*)',text)\n",
    "    birth_date = get_pattern_match('Born.*\\n(.*)\\(age',text)\n",
    "    birth_place = get_pattern_match('\\(age.*\\n(.*)',text)\n",
    "    return{\n",
    "        'age': int(age),\n",
    "        'name':full_name.strip(),\n",
    "        'birth_date':birth_date.strip(),\n",
    "        'birth_place':birth_place.strip()\n",
    "    }"
   ]
  },
  {
   "cell_type": "code",
   "execution_count": 29,
   "id": "53503b50",
   "metadata": {},
   "outputs": [
    {
     "data": {
      "text/plain": [
       "{'age': 64,\n",
       " 'name': 'Mukesh Dhirubhai Ambani',\n",
       " 'birth_date': '19 April 1957',\n",
       " 'birth_place': 'Aden, Colony of Aden'}"
      ]
     },
     "execution_count": 29,
     "metadata": {},
     "output_type": "execute_result"
    }
   ],
   "source": [
    "get_personal_info(text)"
   ]
  },
  {
   "cell_type": "code",
   "execution_count": null,
   "id": "04e9189f",
   "metadata": {},
   "outputs": [],
   "source": []
  }
 ],
 "metadata": {
  "kernelspec": {
   "display_name": "Python 3 (ipykernel)",
   "language": "python",
   "name": "python3"
  },
  "language_info": {
   "codemirror_mode": {
    "name": "ipython",
    "version": 3
   },
   "file_extension": ".py",
   "mimetype": "text/x-python",
   "name": "python",
   "nbconvert_exporter": "python",
   "pygments_lexer": "ipython3",
   "version": "3.9.7"
  }
 },
 "nbformat": 4,
 "nbformat_minor": 5
}
